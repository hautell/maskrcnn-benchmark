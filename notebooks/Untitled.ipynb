{
 "cells": [
  {
   "cell_type": "code",
   "execution_count": 358,
   "metadata": {},
   "outputs": [],
   "source": [
    "import os\n",
    "import glob\n",
    "import json\n",
    "import pandas as pd\n",
    "from tqdm import tqdm_notebook as tqdm"
   ]
  },
  {
   "cell_type": "code",
   "execution_count": 324,
   "metadata": {},
   "outputs": [],
   "source": [
    "farfetch_scrape_annos = glob.glob('/data/farfetch-scrape-v2/annotations/*.json')"
   ]
  },
  {
   "cell_type": "code",
   "execution_count": 338,
   "metadata": {},
   "outputs": [],
   "source": [
    "cat2keywords = {\n",
    "    'bag': ['bag', 'bags', 'tote', 'backpack', 'clutch', \n",
    "            'handbag', 'purse'],\n",
    "    'belt': ['belt'],\n",
    "    'outer': ['coat', 'jacket', 'suit', 'blazers', 'sweatshirt', \n",
    "              'hoodie', 'vest', 'blazer', 'raincoat', 'gilet',\n",
    "             'sweater', 'hood', 'poncho', 'waistcoat', 'jumper',\n",
    "             'cardigan', 'pullover', 'jumpsuit', 'overcoat', 'parka',\n",
    "             'sweatshir'],\n",
    "    'dress': ['dress', 'gown'],\n",
    "    'sunglasses': ['glasses', 'sunglasses'],\n",
    "    'pants': ['pants', 'jeans', 'trousers', 'sweatpants', 'pants', \n",
    "             'chinos', 'leggings', 'sweater-trousers', 'tights', \n",
    "             'trouser', 'joggers'],\n",
    "    'top': ['top', 'blouse', 't-shirt', 'shirt', 'tshirt'],\n",
    "    'shorts': ['shorts', 'swimshorts', 'short'],\n",
    "    'skirt': ['skirt'],\n",
    "    'headwear': ['cap', 'beanie', 'headband', 'hat'],\n",
    "    'scarf & tie': ['scarf', 'tie', 'choker']\n",
    "}\n",
    "keyword2cat = {}\n",
    "for k,v in cat2keywords.items() :\n",
    "    for v_ in v :\n",
    "        keyword2cat[v_] = k\n",
    "keywords = list(keyword2cat.keys())\n",
    "\n",
    "blacklist = ['pin', 'clogs', 'clog', 'strap', \n",
    "             'boxers', 'pack', 'rig', \n",
    "             'chain', 'bracelet', 'sandals', 'platform', 'swimsuit',\n",
    "            'mules', 'bikini', 'keyring', 'sneaker', 'sneakers',\n",
    "            'earring', 'boot', 'zip', 'briefs', 'socks', 'wallet',\n",
    "             'towel', 'flats', 'moccasins', 'armband', 'pencils',\n",
    "            'derbies', 'hi', 'cardholder', 'bodysuit', 'bra']\n",
    "cats = list(cat2keywords.keys())"
   ]
  },
  {
   "cell_type": "code",
   "execution_count": 347,
   "metadata": {},
   "outputs": [
    {
     "data": {
      "application/vnd.jupyter.widget-view+json": {
       "model_id": "de0c05676620426abfeb200ecc31d210",
       "version_major": 2,
       "version_minor": 0
      },
      "text/plain": [
       "HBox(children=(IntProgress(value=0, max=208502), HTML(value='')))"
      ]
     },
     "metadata": {},
     "output_type": "display_data"
    },
    {
     "name": "stdout",
     "output_type": "stream",
     "text": [
      "\n"
     ]
    }
   ],
   "source": [
    "cat2fns = {}\n",
    "for cat in cat2keywords.keys() :\n",
    "    cat2fns[cat] = []\n",
    "    \n",
    "for fn in tqdm(farfetch_scrape_annos) :\n",
    "    with open(fn, 'r') as f :\n",
    "        anno = json.load(f)\n",
    "    short_description = anno['short_description']\n",
    "    if not short_description :\n",
    "        continue\n",
    "    short_split = short_description.replace('-', ' ').split()\n",
    "    categories = [keyword2cat[w.lower()] for w in short_split if w.lower() in keywords]\n",
    "    \n",
    "    if len(categories) > 0 :\n",
    "        category = categories[0]\n",
    "        cat2fns[category].append(fn)\n",
    "    else :\n",
    "        long_desc = anno['description']\n",
    "        if not long_desc :\n",
    "            continue\n",
    "            \n",
    "        long_desc_split = long_desc.replace('-', ' ').split(' ')\n",
    "        categories = [keyword2cat[w.lower()] for w in short_split if w.lower() in keywords]\n",
    "        \n",
    "        if len(categories) > 0 :\n",
    "            category = categories[0]\n",
    "            cat2fns[category].append(fn)"
   ]
  },
  {
   "cell_type": "code",
   "execution_count": 352,
   "metadata": {},
   "outputs": [],
   "source": [
    "cat2num = pd.Series({k:len(v) for k,v in cat2fns.items()})"
   ]
  },
  {
   "cell_type": "code",
   "execution_count": 361,
   "metadata": {},
   "outputs": [],
   "source": [
    "fns2cat = {}\n",
    "for k,v in cat2fns.items() :\n",
    "    for v_ in v :\n",
    "        fns2cat[os.path.basename(v_).split('.')[0]] = k"
   ]
  },
  {
   "cell_type": "code",
   "execution_count": 364,
   "metadata": {},
   "outputs": [],
   "source": [
    "with open('/data/farfetch-scrape-v2/product2category.json', 'w') as f :\n",
    "    json.dump(fns2cat, f)"
   ]
  },
  {
   "cell_type": "code",
   "execution_count": null,
   "metadata": {},
   "outputs": [],
   "source": []
  }
 ],
 "metadata": {
  "kernelspec": {
   "display_name": "maskrcnn",
   "language": "python",
   "name": "maskrcnn"
  },
  "language_info": {
   "codemirror_mode": {
    "name": "ipython",
    "version": 3
   },
   "file_extension": ".py",
   "mimetype": "text/x-python",
   "name": "python",
   "nbconvert_exporter": "python",
   "pygments_lexer": "ipython3",
   "version": "3.7.3"
  }
 },
 "nbformat": 4,
 "nbformat_minor": 2
}
