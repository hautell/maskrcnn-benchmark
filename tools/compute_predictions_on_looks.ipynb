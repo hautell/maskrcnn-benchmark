{
 "cells": [
  {
   "cell_type": "code",
   "execution_count": 1,
   "metadata": {},
   "outputs": [],
   "source": [
    "import os\n",
    "import pickle\n",
    "import uuid\n",
    "import glob \n",
    "from tqdm import tqdm\n",
    "import numpy as np\n",
    "from PIL import Image\n",
    "from maskrcnn_benchmark.config import cfg\n",
    "from maskrcnn_benchmark.utils.modanetDrawer_test import ModaNetDrawerTest\n",
    "from PIL import Image\n",
    "from pycocotools.mask import encode, decode\n",
    "import matplotlib.pyplot as plt"
   ]
  },
  {
   "cell_type": "code",
   "execution_count": 2,
   "metadata": {},
   "outputs": [],
   "source": [
    "BASE_DIR = '/data/hautell-looks/'\n",
    "GARMENT_BASE_DIR = '/data/hautell-looks-garments'"
   ]
  },
  {
   "cell_type": "code",
   "execution_count": 6,
   "metadata": {},
   "outputs": [],
   "source": [
    "images = glob.glob('/data/hautell-looks/spring-rtw-2019/**/*.jpg')"
   ]
  },
  {
   "cell_type": "code",
   "execution_count": 7,
   "metadata": {},
   "outputs": [],
   "source": [
    "cfg.merge_from_file('../configs/modanet/modanet-8gpu.yaml')\n",
    "cfg.merge_from_list(['MODEL.WEIGHT', '/data/logs/modanet/modanet-8gpu/model_0035000.pth'])\n",
    "drawer = ModaNetDrawerTest(cfg, min_image_size=800, confidence_threshold=0.7)"
   ]
  },
  {
   "cell_type": "code",
   "execution_count": 8,
   "metadata": {},
   "outputs": [
    {
     "name": "stderr",
     "output_type": "stream",
     "text": [
      "100%|██████████| 8900/8900 [2:31:28<00:00,  1.09it/s]  \n"
     ]
    }
   ],
   "source": [
    "for image_path in tqdm(images) :\n",
    "    collection = image_path.split('/')[3]\n",
    "    designer = image_path.split('/')[4]\n",
    "    look_num = os.path.basename(image_path).split('.')[0]\n",
    "    \n",
    "    LOOKDIR = os.path.join(GARMENT_BASE_DIR, collection, designer, look_num)\n",
    "    if not os.path.exists(LOOKDIR) : \n",
    "        os.makedirs(LOOKDIR)\n",
    "    \n",
    "    image = np.array(Image.open(image_path).convert('RGB'))\n",
    "    result, top_predictions = drawer.run_on_opencv_image(image)\n",
    "\n",
    "    bbox = top_predictions.bbox.numpy()\n",
    "    labels = top_predictions.get_field(\"labels\").numpy().tolist()\n",
    "    masks = top_predictions.get_field('mask').numpy()\n",
    "    scores = top_predictions.get_field(\"scores\").numpy()\n",
    "    \n",
    "    predictions = {}\n",
    "    for pred_ix in range(0, len(top_predictions)) :\n",
    "        y1, x1, y2, x2 = map(int, bbox[pred_ix, :])\n",
    "        garment = result[x1:x2, y1:y2, :]\n",
    "        mask = masks[pred_ix, 0, :]\n",
    "        rle = encode(np.asfortranarray(mask))\n",
    "        rle['counts'] = rle['counts']\n",
    "        garment_id = str(uuid.uuid4())\n",
    "        predictions[garment_id] = {'mask_encoded': rle, \n",
    "                                   'label': labels[pred_ix], \n",
    "                                   'bbox': bbox[pred_ix, :].tolist(),\n",
    "                                    'score': scores[pred_ix]}\n",
    "        garment_save_path = os.path.join(LOOKDIR, str(uuid.uuid4())+'.jpg')\n",
    "\n",
    "        Image.fromarray(garment).save(garment_save_path)\n",
    "\n",
    "    with open(os.path.join(LOOKDIR, 'predictions.pkl'), 'wb') as f :\n",
    "        pickle.dump(predictions, f)"
   ]
  },
  {
   "cell_type": "code",
   "execution_count": null,
   "metadata": {},
   "outputs": [],
   "source": []
  }
 ],
 "metadata": {
  "kernelspec": {
   "display_name": "maskrcnn",
   "language": "python",
   "name": "maskrcnn"
  },
  "language_info": {
   "codemirror_mode": {
    "name": "ipython",
    "version": 3
   },
   "file_extension": ".py",
   "mimetype": "text/x-python",
   "name": "python",
   "nbconvert_exporter": "python",
   "pygments_lexer": "ipython3",
   "version": "3.7.3"
  }
 },
 "nbformat": 4,
 "nbformat_minor": 2
}
