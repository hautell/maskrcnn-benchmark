{
 "cells": [
  {
   "cell_type": "code",
   "execution_count": 1,
   "metadata": {},
   "outputs": [],
   "source": [
    "import os\n",
    "import pickle\n",
    "import uuid\n",
    "import glob \n",
    "from tqdm import tqdm\n",
    "import numpy as np\n",
    "from PIL import Image\n",
    "from maskrcnn_benchmark.config import cfg\n",
    "from maskrcnn_benchmark.utils.modanetDrawer_test import ModaNetDrawerTest\n",
    "from maskrcnn_benchmark.utils.viz_utils import *\n",
    "from PIL import Image\n",
    "from pycocotools.mask import encode, decode\n",
    "import matplotlib.pyplot as plt"
   ]
  },
  {
   "cell_type": "code",
   "execution_count": 2,
   "metadata": {},
   "outputs": [],
   "source": [
    "categories = [\n",
    "    \"__background\",\n",
    "    \"bag\",\n",
    "    \"belt\",\n",
    "    \"outer\",\n",
    "    \"dress\",\n",
    "    \"sunglasses\",\n",
    "    \"pants\",\n",
    "    \"top\",\n",
    "    \"shorts\",\n",
    "    \"skirt\",\n",
    "    \"headwear\",\n",
    "    \"scarf & tie\"\n",
    "]"
   ]
  },
  {
   "cell_type": "code",
   "execution_count": 3,
   "metadata": {},
   "outputs": [],
   "source": [
    "cfg.merge_from_file('../configs/imaterialist+modanet-8gpu-COCOft.yaml')\n",
    "cfg.merge_from_list(['MODEL.WEIGHT', '/data/logs/garment_detection/imaterialist+modanet_continue/model_0047500.pth'])\n",
    "cfg.merge_from_list(['TEST.IMS_PER_BATCH', '2'])\n",
    "drawer = ModaNetDrawerTest(cfg, min_image_size=800, confidence_threshold=0.5)"
   ]
  },
  {
   "cell_type": "code",
   "execution_count": 4,
   "metadata": {},
   "outputs": [],
   "source": [
    "images = glob.glob('/data/runway2shop/looks/*.jpg')"
   ]
  },
  {
   "cell_type": "code",
   "execution_count": 13,
   "metadata": {},
   "outputs": [],
   "source": [
    "SAVEDIR = '/data/runway2shop/maskrcnn_preds/looks/'"
   ]
  },
  {
   "cell_type": "code",
   "execution_count": 16,
   "metadata": {},
   "outputs": [
    {
     "name": "stderr",
     "output_type": "stream",
     "text": [
      "100%|██████████| 116/116 [04:09<00:00,  2.32s/it]\n"
     ]
    }
   ],
   "source": [
    "for image_path in tqdm(images) :\n",
    "    image = np.array(Image.open(image_path).convert('RGB'))\n",
    "    top_predictions, features = drawer.run_on_opencv_image(image)\n",
    "\n",
    "    bboxes = top_predictions.bbox.numpy()\n",
    "    masks = top_predictions.get_field(\"mask\").numpy()\n",
    "    labels = top_predictions.get_field(\"labels\").numpy().astype(int)\n",
    "    masks = masks.squeeze(1).transpose((1,2,0))\n",
    "    scores = top_predictions.get_field(\"scores\").numpy()\n",
    "    \n",
    "    features = features.numpy()\n",
    "    \n",
    "    image_name = os.path.basename(image_path).split('.')[0]\n",
    "    \n",
    "    savefolder = os.path.join(SAVEDIR, image_name)\n",
    "    if not os.path.exists(savefolder) :\n",
    "        os.makedirs(savefolder)\n",
    "        \n",
    "    np.save(os.path.join(savefolder, 'bbox.npy'), bboxes)\n",
    "    np.save(os.path.join(savefolder, 'masks.npy'), masks)\n",
    "    np.save(os.path.join(savefolder, 'labels.npy'), labels)\n",
    "    np.save(os.path.join(savefolder, 'scores.npy'), scores)\n",
    "    np.save(os.path.join(savefolder, 'features.npy'), features)"
   ]
  },
  {
   "cell_type": "code",
   "execution_count": 7,
   "metadata": {},
   "outputs": [
    {
     "data": {
      "text/plain": [
       "(4098, 2732, 3)"
      ]
     },
     "execution_count": 7,
     "metadata": {},
     "output_type": "execute_result"
    }
   ],
   "source": [
    "masks.shape"
   ]
  },
  {
   "cell_type": "code",
   "execution_count": 11,
   "metadata": {},
   "outputs": [
    {
     "data": {
      "text/plain": [
       "'0071'"
      ]
     },
     "execution_count": 11,
     "metadata": {},
     "output_type": "execute_result"
    }
   ],
   "source": [
    "os.path.basename(image_path).split('.')[0]"
   ]
  },
  {
   "cell_type": "code",
   "execution_count": null,
   "metadata": {},
   "outputs": [],
   "source": []
  }
 ],
 "metadata": {
  "kernelspec": {
   "display_name": "maskrcnn",
   "language": "python",
   "name": "maskrcnn"
  },
  "language_info": {
   "codemirror_mode": {
    "name": "ipython",
    "version": 3
   },
   "file_extension": ".py",
   "mimetype": "text/x-python",
   "name": "python",
   "nbconvert_exporter": "python",
   "pygments_lexer": "ipython3",
   "version": "3.7.3"
  }
 },
 "nbformat": 4,
 "nbformat_minor": 2
}
