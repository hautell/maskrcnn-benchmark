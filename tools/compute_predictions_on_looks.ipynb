{
 "cells": [
  {
   "cell_type": "code",
   "execution_count": 1,
   "metadata": {},
   "outputs": [],
   "source": [
    "import os\n",
    "import pickle\n",
    "import uuid\n",
    "import glob \n",
    "from tqdm import tqdm\n",
    "import numpy as np\n",
    "from PIL import Image\n",
    "from maskrcnn_benchmark.config import cfg\n",
    "from maskrcnn_benchmark.utils.modanetDrawer_test import ModaNetDrawerTest\n",
    "from maskrcnn_benchmark.utils.viz_utils import *\n",
    "from PIL import Image\n",
    "from pycocotools.mask import encode, decode\n",
    "import matplotlib.pyplot as plt"
   ]
  },
  {
   "cell_type": "code",
   "execution_count": 2,
   "metadata": {},
   "outputs": [],
   "source": [
    "BASE_DIR = '/data/hautell-looks/'\n",
    "GARMENT_BASE_DIR = '/data/hautell-looks-garments'"
   ]
  },
  {
   "cell_type": "code",
   "execution_count": 9,
   "metadata": {},
   "outputs": [],
   "source": [
    "images = glob.glob('/data/runway2shop/all/*.jpg')"
   ]
  },
  {
   "cell_type": "code",
   "execution_count": 4,
   "metadata": {},
   "outputs": [],
   "source": [
    "categories = [\n",
    "    \"__background\",\n",
    "    \"bag\",\n",
    "    \"belt\",\n",
    "    \"outer\",\n",
    "    \"dress\",\n",
    "    \"sunglasses\",\n",
    "    \"pants\",\n",
    "    \"top\",\n",
    "    \"shorts\",\n",
    "    \"skirt\",\n",
    "    \"headwear\",\n",
    "    \"scarf & tie\"\n",
    "]"
   ]
  },
  {
   "cell_type": "code",
   "execution_count": 5,
   "metadata": {},
   "outputs": [],
   "source": [
    "cfg.merge_from_file('../configs/imaterialist+modanet-8gpu-COCOft.yaml')\n",
    "cfg.merge_from_list(['MODEL.WEIGHT', '/data/logs/garment_detection/imaterialist+modanet_continue/model_0047500.pth'])\n",
    "cfg.merge_from_list(['TEST.IMS_PER_BATCH', '2'])\n",
    "drawer = ModaNetDrawerTest(cfg, min_image_size=800, confidence_threshold=0.7)\n",
    "\n"
   ]
  },
  {
   "cell_type": "code",
   "execution_count": 10,
   "metadata": {},
   "outputs": [
    {
     "name": "stderr",
     "output_type": "stream",
     "text": [
      "\r",
      "  0%|          | 0/232 [00:00<?, ?it/s]"
     ]
    },
    {
     "name": "stdout",
     "output_type": "stream",
     "text": [
      "\n",
      "*** No instances to display *** \n",
      "\n"
     ]
    },
    {
     "name": "stderr",
     "output_type": "stream",
     "text": [
      " 11%|█         | 26/232 [00:42<07:31,  2.19s/it]"
     ]
    },
    {
     "name": "stdout",
     "output_type": "stream",
     "text": [
      "\n",
      "*** No instances to display *** \n",
      "\n"
     ]
    },
    {
     "name": "stderr",
     "output_type": "stream",
     "text": [
      " 12%|█▏        | 28/232 [00:44<04:52,  1.44s/it]"
     ]
    },
    {
     "name": "stdout",
     "output_type": "stream",
     "text": [
      "\n",
      "*** No instances to display *** \n",
      "\n"
     ]
    },
    {
     "name": "stderr",
     "output_type": "stream",
     "text": [
      " 28%|██▊       | 66/232 [01:47<02:15,  1.22it/s]"
     ]
    },
    {
     "name": "stdout",
     "output_type": "stream",
     "text": [
      "\n",
      "*** No instances to display *** \n",
      "\n"
     ]
    },
    {
     "name": "stderr",
     "output_type": "stream",
     "text": [
      " 31%|███       | 72/232 [01:59<05:32,  2.08s/it]"
     ]
    },
    {
     "name": "stdout",
     "output_type": "stream",
     "text": [
      "\n",
      "*** No instances to display *** \n",
      "\n"
     ]
    },
    {
     "name": "stderr",
     "output_type": "stream",
     "text": [
      " 35%|███▍      | 81/232 [02:25<06:12,  2.47s/it]"
     ]
    },
    {
     "name": "stdout",
     "output_type": "stream",
     "text": [
      "\n",
      "*** No instances to display *** \n",
      "\n"
     ]
    },
    {
     "name": "stderr",
     "output_type": "stream",
     "text": [
      " 41%|████      | 95/232 [02:48<03:30,  1.54s/it]"
     ]
    },
    {
     "name": "stdout",
     "output_type": "stream",
     "text": [
      "\n",
      "*** No instances to display *** \n",
      "\n"
     ]
    },
    {
     "name": "stderr",
     "output_type": "stream",
     "text": [
      " 42%|████▏     | 97/232 [02:55<05:59,  2.66s/it]"
     ]
    },
    {
     "name": "stdout",
     "output_type": "stream",
     "text": [
      "\n",
      "*** No instances to display *** \n",
      "\n"
     ]
    },
    {
     "name": "stderr",
     "output_type": "stream",
     "text": [
      " 46%|████▌     | 107/232 [03:17<05:26,  2.61s/it]"
     ]
    },
    {
     "name": "stdout",
     "output_type": "stream",
     "text": [
      "\n",
      "*** No instances to display *** \n",
      "\n"
     ]
    },
    {
     "name": "stderr",
     "output_type": "stream",
     "text": [
      " 55%|█████▌    | 128/232 [03:54<03:48,  2.19s/it]"
     ]
    },
    {
     "name": "stdout",
     "output_type": "stream",
     "text": [
      "\n",
      "*** No instances to display *** \n",
      "\n"
     ]
    },
    {
     "name": "stderr",
     "output_type": "stream",
     "text": [
      " 56%|█████▌    | 130/232 [03:58<04:07,  2.43s/it]"
     ]
    },
    {
     "name": "stdout",
     "output_type": "stream",
     "text": [
      "\n",
      "*** No instances to display *** \n",
      "\n"
     ]
    },
    {
     "name": "stderr",
     "output_type": "stream",
     "text": [
      " 57%|█████▋    | 133/232 [04:06<04:10,  2.53s/it]"
     ]
    },
    {
     "name": "stdout",
     "output_type": "stream",
     "text": [
      "\n",
      "*** No instances to display *** \n",
      "\n"
     ]
    },
    {
     "name": "stderr",
     "output_type": "stream",
     "text": [
      " 67%|██████▋   | 155/232 [05:21<04:56,  3.85s/it]"
     ]
    },
    {
     "name": "stdout",
     "output_type": "stream",
     "text": [
      "\n",
      "*** No instances to display *** \n",
      "\n"
     ]
    },
    {
     "name": "stderr",
     "output_type": "stream",
     "text": [
      "\r",
      " 67%|██████▋   | 156/232 [05:22<03:48,  3.01s/it]"
     ]
    },
    {
     "name": "stdout",
     "output_type": "stream",
     "text": [
      "\n",
      "*** No instances to display *** \n",
      "\n"
     ]
    },
    {
     "name": "stderr",
     "output_type": "stream",
     "text": [
      " 71%|███████   | 164/232 [05:37<01:42,  1.51s/it]"
     ]
    },
    {
     "name": "stdout",
     "output_type": "stream",
     "text": [
      "\n",
      "*** No instances to display *** \n",
      "\n"
     ]
    },
    {
     "name": "stderr",
     "output_type": "stream",
     "text": [
      " 75%|███████▍  | 173/232 [06:03<02:28,  2.52s/it]"
     ]
    },
    {
     "name": "stdout",
     "output_type": "stream",
     "text": [
      "\n",
      "*** No instances to display *** \n",
      "\n"
     ]
    },
    {
     "name": "stderr",
     "output_type": "stream",
     "text": [
      " 77%|███████▋  | 179/232 [06:20<02:12,  2.49s/it]"
     ]
    },
    {
     "name": "stdout",
     "output_type": "stream",
     "text": [
      "\n",
      "*** No instances to display *** \n",
      "\n"
     ]
    },
    {
     "name": "stderr",
     "output_type": "stream",
     "text": [
      " 81%|████████  | 187/232 [06:41<02:08,  2.85s/it]"
     ]
    },
    {
     "name": "stdout",
     "output_type": "stream",
     "text": [
      "\n",
      "*** No instances to display *** \n",
      "\n"
     ]
    },
    {
     "name": "stderr",
     "output_type": "stream",
     "text": [
      " 86%|████████▌ | 200/232 [07:16<01:10,  2.21s/it]"
     ]
    },
    {
     "name": "stdout",
     "output_type": "stream",
     "text": [
      "\n",
      "*** No instances to display *** \n",
      "\n"
     ]
    },
    {
     "name": "stderr",
     "output_type": "stream",
     "text": [
      " 99%|█████████▉| 230/232 [08:38<00:06,  3.17s/it]"
     ]
    },
    {
     "name": "stdout",
     "output_type": "stream",
     "text": [
      "\n",
      "*** No instances to display *** \n",
      "\n"
     ]
    },
    {
     "name": "stderr",
     "output_type": "stream",
     "text": [
      "\r",
      "100%|█████████▉| 231/232 [08:39<00:02,  2.52s/it]"
     ]
    },
    {
     "name": "stdout",
     "output_type": "stream",
     "text": [
      "\n",
      "*** No instances to display *** \n",
      "\n"
     ]
    },
    {
     "name": "stderr",
     "output_type": "stream",
     "text": [
      "100%|██████████| 232/232 [08:40<00:00,  2.08s/it]\n"
     ]
    }
   ],
   "source": [
    "for image_path in tqdm(images) :\n",
    "    collection = image_path.split('/')[3]\n",
    "    designer = image_path.split('/')[4]\n",
    "    look_num = os.path.basename(image_path).split('.')[0]\n",
    "    \n",
    "    LOOKDIR = os.path.join(GARMENT_BASE_DIR, collection, designer, look_num)\n",
    "    if not os.path.exists(LOOKDIR) : \n",
    "        os.makedirs(LOOKDIR)\n",
    "    \n",
    "    image = np.array(Image.open(image_path).convert('RGB'))\n",
    "    result, top_predictions = drawer.run_on_opencv_image(image)\n",
    "\n",
    "#     bbox = top_predictions.bbox.numpy()\n",
    "#     labels = top_predictions.get_field(\"labels\").numpy().tolist()\n",
    "#     masks = top_predictions.get_field('mask').numpy()\n",
    "#     scores = top_predictions.get_field(\"scores\").numpy()\n",
    "    \n",
    "#     predictions = {}\n",
    "#     for pred_ix in range(0, len(top_predictions)) :\n",
    "#         y1, x1, y2, x2 = map(int, bbox[pred_ix, :])\n",
    "#         garment = result[x1:x2, y1:y2, :]\n",
    "#         mask = masks[pred_ix, 0, :]\n",
    "#         rle = encode(np.asfortranarray(mask))\n",
    "#         rle['counts'] = rle['counts']\n",
    "#         garment_id = str(uuid.uuid4())\n",
    "#         predictions[garment_id] = {'mask_encoded': rle, \n",
    "#                                    'label': labels[pred_ix], \n",
    "#                                    'bbox': bbox[pred_ix, :].tolist(),\n",
    "#                                     'score': scores[pred_ix]}\n",
    "#         garment_save_path = os.path.join(LOOKDIR, str(uuid.uuid4())+'.jpg')\n",
    "\n",
    "#         Image.fromarray(garment).save(garment_save_path)\n",
    "\n",
    "#     with open(os.path.join(LOOKDIR, 'predictions.pkl'), 'wb') as f :\n",
    "#         pickle.dump(predictions, f)\n",
    "    bboxes = top_predictions.bbox.numpy()\n",
    "    masks = top_predictions.get_field(\"mask\").numpy()\n",
    "    labels = top_predictions.get_field(\"labels\").numpy().astype(int)\n",
    "    masks = masks.squeeze(1).transpose((1,2,0))\n",
    "    fn = os.path.basename(image_path)\n",
    "    new_fn = os.path.join('outputs', fn)\n",
    "    _ = display_instances(image, bboxes, masks, labels, categories, filename=new_fn)"
   ]
  }
 ],
 "metadata": {
  "kernelspec": {
   "display_name": "maskrcnn",
   "language": "python",
   "name": "maskrcnn"
  },
  "language_info": {
   "codemirror_mode": {
    "name": "ipython",
    "version": 3
   },
   "file_extension": ".py",
   "mimetype": "text/x-python",
   "name": "python",
   "nbconvert_exporter": "python",
   "pygments_lexer": "ipython3",
   "version": "3.7.3"
  }
 },
 "nbformat": 4,
 "nbformat_minor": 2
}
