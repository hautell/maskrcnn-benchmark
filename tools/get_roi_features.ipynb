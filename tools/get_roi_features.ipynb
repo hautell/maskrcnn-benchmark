{
 "cells": [
  {
   "cell_type": "code",
   "execution_count": null,
   "metadata": {},
   "outputs": [],
   "source": [
    "import os\n",
    "import pickle\n",
    "import uuid\n",
    "import glob \n",
    "from tqdm import tqdm\n",
    "import numpy as np\n",
    "from PIL import Image\n",
    "from maskrcnn_benchmark.config import cfg\n",
    "from maskrcnn_benchmark.utils.modanetDrawer_test import ModaNetDrawerTest\n",
    "from PIL import Image\n",
    "from pycocotools.mask import encode, decode\n",
    "import matplotlib.pyplot as plt\n",
    "\n",
    "%load_ext autoreload\n",
    "%autoreload 2"
   ]
  },
  {
   "cell_type": "code",
   "execution_count": 11,
   "metadata": {},
   "outputs": [],
   "source": [
    "image_path = '/data/runway2shop/looks/0001.jpg'\n",
    "\n",
    "cfg.merge_from_file('../configs/modanet/modanet-8gpu.yaml')\n",
    "cfg.merge_from_list(['MODEL.WEIGHT', '/data/logs/modanet/modanet-8gpu/model_0035000.pth'])"
   ]
  },
  {
   "cell_type": "code",
   "execution_count": null,
   "metadata": {},
   "outputs": [],
   "source": [
    "image = np.array(Image.open(image_path).convert('RGB'))"
   ]
  },
  {
   "cell_type": "code",
   "execution_count": 15,
   "metadata": {},
   "outputs": [],
   "source": [
    "drawer = ModaNetDrawerTest(cfg, min_image_size=800, confidence_threshold=0.7)"
   ]
  },
  {
   "cell_type": "code",
   "execution_count": 16,
   "metadata": {},
   "outputs": [
    {
     "name": "stdout",
     "output_type": "stream",
     "text": [
      "torch.Size([11, 256, 14, 14])\n",
      "BoxList(num_boxes=11, image_width=800, image_height=1170, mode=xyxy)\n"
     ]
    }
   ],
   "source": [
    "result, top_predictions = drawer.run_on_opencv_image(image)"
   ]
  },
  {
   "cell_type": "code",
   "execution_count": null,
   "metadata": {},
   "outputs": [],
   "source": []
  }
 ],
 "metadata": {
  "kernelspec": {
   "display_name": "maskrcnn",
   "language": "python",
   "name": "maskrcnn"
  },
  "language_info": {
   "codemirror_mode": {
    "name": "ipython",
    "version": 3
   },
   "file_extension": ".py",
   "mimetype": "text/x-python",
   "name": "python",
   "nbconvert_exporter": "python",
   "pygments_lexer": "ipython3",
   "version": "3.7.3"
  }
 },
 "nbformat": 4,
 "nbformat_minor": 2
}
